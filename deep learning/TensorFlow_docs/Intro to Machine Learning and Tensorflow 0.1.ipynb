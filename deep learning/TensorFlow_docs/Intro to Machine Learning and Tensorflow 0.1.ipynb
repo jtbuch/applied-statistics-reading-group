{
 "cells": [
  {
   "cell_type": "markdown",
   "metadata": {},
   "source": [
    "## Introduction to Machine Learning and Tensorflow\n",
    "\n",
    "Note: This doesn't actually go into tensorflow yet. Sorry about that\n",
    "\n",
    "Welcome! This interactive machine learning and tensorflow tutorial is meant to combine existing tutorials to go through some basics of using this graphical library for the purposes of machine learning. \n",
    "\n",
    "The material for this tutorial comes largely from the google machine learning tutorial:\n",
    "\n",
    "https://developers.google.com/machine-learning/crash-course/\n",
    "\n",
    "For helpful tidbits about Jupyter notebooks themselves check out:\n",
    "\n",
    "https://www.youtube.com/watch?v=HW29067qVWk\n",
    "\n",
    "For helpful latex symbol references see:\n",
    "\n",
    " http://cs.brown.edu/about/system/managed/latex/doc/symbols.pdf\n",
    " https://www.sharelatex.com/learn/Subscripts_and_superscripts#Operators_using_subscripts_and_superscripts\n",
    " \n",
    " Authors:\n",
    " \n",
    " Tyler Barnes-Diana\n",
    " (As you update this please add your name :D )"
   ]
  },
  {
   "cell_type": "markdown",
   "metadata": {},
   "source": [
    "## Table of Contents\n",
    "\n",
    "#### What is Machine Learning\n",
    "\n",
    "<a href='#Framework'>Framework</a> - missing supervised vs unsupervised section\n",
    "\n",
    "#### Starting Simple - Linear Regression\n",
    "\n",
    "<a href='#Models and Labels'>Models and Labels</a>\n",
    "\n",
    "<a href='#Loss'>Loss</a>\n",
    "\n",
    "<a href='#Reducing Loss'>Reducing Loss</a>\n",
    "\n",
    "\n"
   ]
  },
  {
   "cell_type": "markdown",
   "metadata": {},
   "source": [
    "<a id='Framework'></a>"
   ]
  },
  {
   "cell_type": "markdown",
   "metadata": {},
   "source": [
    "## What is Machine Learning?\n",
    "\n",
    "### The framework \n",
    "\n",
    "We spend lots of time trying to come up with answers to a whole slew of questions, often coming up with a solution then seeing if we can find a better one. What if we could write a code that would do that for us? We can! And that's what machine learning boils down to. In this tutorial we will use tensorflow, as well as some other code libraries to create iterative codes that find good solutions to problems (including, hopefully, some hard ones). We'll talk about what makes a solution good and what makes a problem hard. \n",
    "\n",
    "There are different types of problems that can be tackled, often that require different methods and arise from differences in available data. Here, at least at first, we'll focus on something called \"Supervised Machine Learning.\" This means for every data point I have (or example) I not only have the <b><i>features</i></b> associated with that <b><i>example</i></b>, but also a <b><i>label</i></b>. I will then build a <b><i>model</i></b> trained on several of these examples that, when trained, can take in a new feature set and give me a reasonable guess about what the label for that might be.\n",
    "\n",
    "\n",
    "\n",
    "\n",
    "<b><i>Model</i></b> - defines relationship between feature & estimate of label\n",
    "\n",
    "<b><i>Example</i></b> - instance of data, both features and labels\n",
    "\n",
    "$$\n",
    "(\\vec{x}, y)\n",
    "$$\n",
    "\n",
    "<b><i>Feature</i></b> - a bit of data about the object, combined into a feature vector\n",
    "\n",
    "$$\n",
    "\\vec{x} = x_1 + x_2 + ... + x_n\n",
    "$$\n",
    "\n",
    "<b><i>Label</i></b> - The true value for the informaiton about the object that one is going to model\n",
    "\n",
    "$$\n",
    "y\n",
    "$$\n",
    "\n",
    "\n",
    "Say I want to predict height, so I get a bunch of data from a big group of people. I record the height of both their parents, their weight, and whether or not they can dunk on a regulation height basketball hoop. These are all features that may be useful for my model. I also record their true height. That is the label in this case. Since we're predicting how tall they will be, which is predicting a continuous value, this is a <b><i>regression</i></b> problem. Machine learning can also be used to solve <b><i>classification</i></b> problems (for example are they taller or shorter than 6 feet).\n",
    "\n",
    "<b><i>Regression</i></b> - predict continous values\n",
    "\n",
    "<b><i>Classification</i></b> - predict category memborship"
   ]
  },
  {
   "cell_type": "markdown",
   "metadata": {},
   "source": [
    "<a id='Models and Labels'></a>"
   ]
  },
  {
   "cell_type": "markdown",
   "metadata": {},
   "source": [
    "## Starting simple - Linear Regression\n",
    "\n",
    "### Using a model to generate labels\n",
    "\n",
    "You might remember linear regression from stats. Linear regression is a way to estimate the value of a label from features. Each feature is multiplied by a corresponding weight (or slope term as described in many statistics textbooks). There is an additional term corresponding to a bias term (or an intercept term as it is often described in statistics. Our model thus will look something like the following:\n",
    "\n",
    "$$\n",
    "\\hat{y} = \\vec{w}•\\vec{x}+b\n",
    "$$\n",
    "\n",
    "Say we have some data, namely a bunch of examples containing a single feature for each example and a corresponding label. Data such as the data below, where we want to estimate a measure of Income for a given area via median house value for that same area."
   ]
  },
  {
   "cell_type": "code",
   "execution_count": 146,
   "metadata": {},
   "outputs": [
    {
     "data": {
      "image/png": "[encoded data removed]",
      "text/plain": [
       "<matplotlib.figure.Figure at 0x1a20ce5e90>"
      ]
     },
     "metadata": {},
     "output_type": "display_data"
    }
   ],
   "source": [
    "%matplotlib inline\n",
    "\n",
    "import pandas as pd\n",
    "import matplotlib.pyplot as plt\n",
    "import numpy as np\n",
    "\n",
    "california_housing_dataframe = pd.read_csv(\"https://storage.googleapis.com/mledu-datasets/california_housing_train.csv\", sep=\",\")\n",
    "california_housing_dataframe = california_housing_dataframe.reindex(\n",
    "    np.random.permutation(california_housing_dataframe.index))\n",
    "california_housing_dataframe[\"median_house_value\"] /= 100000.0\n",
    "\n",
    "x = california_housing_dataframe.median_house_value\n",
    "y = california_housing_dataframe.median_income\n",
    "#z = california_housing_dataframe.population\n",
    "\n",
    "num_examples = 100\n",
    "\n",
    "plt.scatter(x[0:(num_examples-1)], y[0:(num_examples-1)])\n",
    "plt.xlabel('median house value') #confused about the units here\n",
    "plt.ylabel('Income')\n",
    "plt.show()"
   ]
  },
  {
   "cell_type": "markdown",
   "metadata": {},
   "source": [
    "We see here a scatter plot showing a bunch of examples. We could make a guess ourselves at what the intercept and slope value should be. Once we make a guess for each of those <b><i>parameters</i></b>, for any feature value we see our model offers a guess about what the label value should be. This is our model, in this case taking the form of a line. We can see our linear model in the scatter plot below. Feel free to change the $w_1$ and b values around in the code below to generate different models.\n",
    "\n",
    "$$\n",
    "\\hat{y} = w_1•x_1+b\n",
    "$$\n",
    "\n",
    "<b><i>parameters</i></b> - the free variables in our model we change to make the model as accurate as possible... in this example case our $w_1$ and b terms"
   ]
  },
  {
   "cell_type": "code",
   "execution_count": 147,
   "metadata": {
    "scrolled": true
   },
   "outputs": [
    {
     "data": {
      "image/png": "[encoded data removed]",
      "text/plain": [
       "<matplotlib.figure.Figure at 0x1a20e49e50>"
      ]
     },
     "metadata": {},
     "output_type": "display_data"
    }
   ],
   "source": [
    "w_1 = 1\n",
    "b = 0\n",
    "\n",
    "\n",
    "regressX_0 = min(x)\n",
    "regressX_1 = max(x)\n",
    "\n",
    "regressY_0 = w_1*regressX_0 + b\n",
    "regressY_1 = w_1*regressX_1 + b\n",
    "\n",
    "plt.plot([regressX_0, regressX_1], [regressY_0, regressY_1], c='r')\n",
    "plt.scatter(x[0:(num_examples-1)], y[0:(num_examples-1)])\n",
    "plt.xlabel('median house value') #confused about the units here, I basically normalized em beteen 1 and 10 but I don't know what they were originally\n",
    "plt.ylabel('Income')\n",
    "plt.show()"
   ]
  },
  {
   "cell_type": "markdown",
   "metadata": {},
   "source": [
    "<a id='Loss'></a>"
   ]
  },
  {
   "cell_type": "markdown",
   "metadata": {},
   "source": [
    "### Loss - Measuring how good our guesses are\n",
    "\n",
    "Our label guesses ($\\hat{y}$) now fall on that line. With a given x value, or feature, we can make a guess about our label value. A new question arises... how good are our guesses? In order to measure this we need to compare our estimated label value ($\\hat{y}$) with the true label value (y). Functions that make this comparison are called <b><i>loss</i></b> functions in machine learning.\n",
    "\n",
    "<b><i>Loss</i></b> - A comparison between a label value predicted by a model and the true label value\n",
    "\n",
    "You may recall from statistics that when preforming a linear regression we would try to minimize something called the Mean Square Error\n",
    "\n",
    "$$\n",
    "MSE = \\frac {\\sum_{(\\vec{x},y)\\in D} (y-\\hat{y}(x))^2} {N}\n",
    "$$\n",
    "\n",
    "N = the number of data points \n",
    "\n",
    "D = the set of data points\n",
    "\n",
    "This is a way of measuring how far the predicted label value $(\\hat{y})$ for each feature set $(\\vec{x})$ differs from the true label (y). This is a type of loss measurement! In Machine Learning we'll use a similar measurement of loss called L2 loss, which is the same aside from the division by the number of data points.\n",
    "\n",
    "$$\n",
    "L2 Loss = \\sum_{(x,y)\\in D} (y-\\hat{y}(\\vec{x}))^2\n",
    "$$\n",
    "\n",
    "Below you can manipulate the weight and bias values again, and see how this L2 loss changes as you do so. Since loss represents the difference between a true label value and the estimated one, the smaller that loss the more accurate the model.\n",
    "\n",
    "Later we'll talk about different measurements of loss, which ones are good for which situatios, and more. \n",
    "\n"
   ]
  },
  {
   "cell_type": "code",
   "execution_count": 148,
   "metadata": {},
   "outputs": [
    {
     "data": {
      "image/png": "[encoded data removed]",
      "text/plain": [
       "<matplotlib.figure.Figure at 0x105be8ed0>"
      ]
     },
     "metadata": {},
     "output_type": "display_data"
    },
    {
     "name": "stdout",
     "output_type": "stream",
     "text": [
      "L2Loss = [ 165.46707475]\n"
     ]
    }
   ],
   "source": [
    "w_1 = 1.5 ; b = 0.5\n",
    "\n",
    "regressX_0 = min(x); regressX_1 = max(x)\n",
    "regressY_0 = w_1*regressX_0 + b; regressY_1 = w_1*regressX_1 + b\n",
    "\n",
    "plt.plot([regressX_0, regressX_1], [regressY_0, regressY_1], c='r')\n",
    "plt.scatter(x[0:(num_examples-1)], y[0:(num_examples-1)])\n",
    "plt.xlabel('median house value'); plt.ylabel('Income')\n",
    "plt.show()\n",
    "\n",
    "y_est = np.zeros([num_examples,1]); L2Loss = 0\n",
    "\n",
    "for i in range(0,(num_examples)):\n",
    "\n",
    "    y_est[i] = w_1*x[i] + b\n",
    "    L2Loss = L2Loss + ((y[i])-(y_est[i]))**2\n",
    "\n",
    "print(\"L2Loss = %s\" %L2Loss)"
   ]
  },
  {
   "cell_type": "markdown",
   "metadata": {},
   "source": [
    "<a id='Reducing Loss'></a>"
   ]
  },
  {
   "cell_type": "markdown",
   "metadata": {},
   "source": [
    "### Reducing Loss\n",
    "\n",
    "So now we have a way to measure loss. Now that we have that we want to be able to use that "
   ]
  },
  {
   "cell_type": "code",
   "execution_count": null,
   "metadata": {
    "collapsed": true
   },
   "outputs": [],
   "source": []
  },
  {
   "cell_type": "code",
   "execution_count": null,
   "metadata": {
    "collapsed": true
   },
   "outputs": [],
   "source": []
  },
  {
   "cell_type": "code",
   "execution_count": null,
   "metadata": {
    "collapsed": true
   },
   "outputs": [],
   "source": []
  },
  {
   "cell_type": "code",
   "execution_count": null,
   "metadata": {
    "collapsed": true
   },
   "outputs": [],
   "source": []
  },
  {
   "cell_type": "code",
   "execution_count": null,
   "metadata": {
    "collapsed": true
   },
   "outputs": [],
   "source": []
  },
  {
   "cell_type": "code",
   "execution_count": null,
   "metadata": {
    "collapsed": true
   },
   "outputs": [],
   "source": []
  },
  {
   "cell_type": "code",
   "execution_count": null,
   "metadata": {
    "collapsed": true
   },
   "outputs": [],
   "source": []
  },
  {
   "cell_type": "code",
   "execution_count": null,
   "metadata": {
    "collapsed": true
   },
   "outputs": [],
   "source": []
  },
  {
   "cell_type": "code",
   "execution_count": null,
   "metadata": {
    "collapsed": true
   },
   "outputs": [],
   "source": []
  },
  {
   "cell_type": "code",
   "execution_count": null,
   "metadata": {
    "collapsed": true
   },
   "outputs": [],
   "source": []
  }
 ],
 "metadata": {
  "kernelspec": {
   "display_name": "Python 2",
   "language": "python",
   "name": "python2"
  },
  "language_info": {
   "codemirror_mode": {
    "name": "ipython",
    "version": 2
   },
   "file_extension": ".py",
   "mimetype": "text/x-python",
   "name": "python",
   "nbconvert_exporter": "python",
   "pygments_lexer": "ipython2",
   "version": "2.7.14"
  }
 },
 "nbformat": 4,
 "nbformat_minor": 2
}
